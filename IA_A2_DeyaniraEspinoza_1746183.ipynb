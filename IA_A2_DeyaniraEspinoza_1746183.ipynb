{
  "nbformat": 4,
  "nbformat_minor": 0,
  "metadata": {
    "colab": {
      "name": "IA_A2_DeyaniraEspinoza_1746183.ipynb",
      "provenance": [],
      "collapsed_sections": [],
      "authorship_tag": "ABX9TyPy8PtE0uizSCcbmIp32MHw",
      "include_colab_link": true
    },
    "kernelspec": {
      "name": "python3",
      "display_name": "Python 3"
    },
    "language_info": {
      "name": "python"
    }
  },
  "cells": [
    {
      "cell_type": "markdown",
      "metadata": {
        "id": "view-in-github",
        "colab_type": "text"
      },
      "source": [
        "<a href=\"https://colab.research.google.com/github/deya-esmore/InteligenciaArtificalyRedesNeuronales/blob/main/IA_A2_DeyaniraEspinoza_1746183.ipynb\" target=\"_parent\"><img src=\"https://colab.research.google.com/assets/colab-badge.svg\" alt=\"Open In Colab\"/></a>"
      ]
    },
    {
      "cell_type": "markdown",
      "source": [
        "### **A2: Ejercicios Básicos en Python**  -  Nancy Deyanira Espinoza Moreno 1746183. Hora N1-N3(jueves) "
      ],
      "metadata": {
        "id": "dc_zKxooTPgZ"
      }
    },
    {
      "cell_type": "markdown",
      "source": [
        "**Ejercicio #1.** Escribe un programa que le pida al usuario por su nombre y que lo salude con su nombre, excepto si se llama “Ana”, “Juan”, y “Pedro”."
      ],
      "metadata": {
        "id": "VCRSAeLlT21s"
      }
    },
    {
      "cell_type": "code",
      "source": [
        "def my_function(fnombre):\n",
        "  print(\"Hola!\") #primero se saluda\n",
        "  nombre=input(\"Cómo te llamas?\") #se ingresará el nombre en este paso\n",
        "  if nombre in [\"Ana\",\"ana\",\"Juan\",\"juan\",\"Pedro\",\"pedro\"]:\n",
        "    print(\"ADIÓS\") #si el nombre capturado está dentro de los nombres no permitidos, se cerrará el programa\n",
        "  else:\n",
        "    print(f\"Me alegro de conocerla, señorita {nombre}\") #si este nombre es diferente a los anteriores, el programa saludará al usuario"
      ],
      "metadata": {
        "id": "9mI7etwyCxb1"
      },
      "execution_count": 86,
      "outputs": []
    },
    {
      "cell_type": "code",
      "source": [
        "my_function(\"nombre\") #nombre diferente"
      ],
      "metadata": {
        "colab": {
          "base_uri": "https://localhost:8080/"
        },
        "id": "nb7c3-8bDNDw",
        "outputId": "12283c49-2ba1-4da0-d050-1c42bd1d68a9"
      },
      "execution_count": 89,
      "outputs": [
        {
          "output_type": "stream",
          "name": "stdout",
          "text": [
            "Hola!\n",
            "Cómo te llamas?Deyanira\n",
            "Me alegro de conocerla, señorita Deyanira\n"
          ]
        }
      ]
    },
    {
      "cell_type": "code",
      "source": [
        "my_function(\"nombre\") #nombre no permitido"
      ],
      "metadata": {
        "colab": {
          "base_uri": "https://localhost:8080/",
          "height": 0
        },
        "id": "z6vxGzd5VwsT",
        "outputId": "8eeca325-ab55-49db-9b5f-867893dd44c2"
      },
      "execution_count": 88,
      "outputs": [
        {
          "output_type": "stream",
          "name": "stdout",
          "text": [
            "Hola!\n",
            "Cómo te llamas?Juan\n",
            "ADIÓS\n"
          ]
        }
      ]
    },
    {
      "cell_type": "markdown",
      "source": [
        "**Ejercicio #2.** Escribe una función que regrese el último elemento de una lista y que revierta el orden de la lista e imprima la lista revertida."
      ],
      "metadata": {
        "id": "rMj7ylZRT_0t"
      }
    },
    {
      "cell_type": "code",
      "source": [
        "def my_function(lista):\n",
        "  lista=[808,707,606,505,404,303,202,101]\n",
        "  print(\"Lista de números\")\n",
        "  print(lista)\n",
        "  print(\"Último elemento\")\n",
        "  print(lista[7])\n",
        "  print(\"Orden de la lista invertido\")\n",
        "  newlista=lista[::-1]\n",
        "  print(newlista)"
      ],
      "metadata": {
        "id": "IKmqZ-SUD9vU"
      },
      "execution_count": 84,
      "outputs": []
    },
    {
      "cell_type": "code",
      "source": [
        "my_function(\"lista\")"
      ],
      "metadata": {
        "colab": {
          "base_uri": "https://localhost:8080/",
          "height": 0
        },
        "id": "KCo55b75PCwo",
        "outputId": "c8b9fb5e-6a3f-4d22-c2ea-fb9d310b7f03"
      },
      "execution_count": 85,
      "outputs": [
        {
          "output_type": "stream",
          "name": "stdout",
          "text": [
            "Lista de números\n",
            "[808, 707, 606, 505, 404, 303, 202, 101]\n",
            "Último elemento\n",
            "101\n",
            "Orden de la lista invertido\n",
            "[101, 202, 303, 404, 505, 606, 707, 808]\n"
          ]
        }
      ]
    },
    {
      "cell_type": "markdown",
      "source": [
        "**Ejercicio #3.** Escribe una función que toma una lista de strings y los imprima línea por línea en un marco rectangular. Por ejemplo, la lista [“Hola”, “a”, “todos”, “esto”, “es”, “un”, “marco”]."
      ],
      "metadata": {
        "id": "HIhJAc3MUGe1"
      }
    },
    {
      "cell_type": "code",
      "source": [
        "def marco_rectangular(): #se define la función\n",
        "  print(\"**********\")\n",
        "  for x in titulo:\n",
        "    print(\"*\"+ x + \"*\") #cada string se imprime entre cada asterisco"
      ],
      "metadata": {
        "id": "dJeS6yK7SqVY"
      },
      "execution_count": 98,
      "outputs": []
    },
    {
      "cell_type": "code",
      "source": [
        "titulo=[\"All     \",\"we      \",\"know    \",\"is      \",\"falling \"]\n",
        "marco_rectangular() #funcion anteriormente creada\n",
        "print(\"**********\")"
      ],
      "metadata": {
        "colab": {
          "base_uri": "https://localhost:8080/"
        },
        "id": "xVy1WNgUcoE5",
        "outputId": "df078e1c-9cb3-4f32-f435-69ad4170b1ca"
      },
      "execution_count": 100,
      "outputs": [
        {
          "output_type": "stream",
          "name": "stdout",
          "text": [
            "**********\n",
            "*All     *\n",
            "*we      *\n",
            "*know    *\n",
            "*is      *\n",
            "*falling *\n",
            "**********\n"
          ]
        }
      ]
    }
  ]
}